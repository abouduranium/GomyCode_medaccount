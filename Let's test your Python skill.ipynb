{
 "cells": [
  {
   "cell_type": "code",
   "execution_count": 7,
   "id": "966b8b9e",
   "metadata": {},
   "outputs": [
    {
     "name": "stdout",
     "output_type": "stream",
     "text": [
      "2002\n",
      "2009\n",
      "2016\n",
      "2023\n",
      "2037\n",
      "2044\n",
      "2051\n",
      "2058\n",
      "2072\n",
      "2079\n",
      "2086\n",
      "2093\n",
      "2107\n",
      "2114\n",
      "2121\n",
      "2128\n",
      "2142\n",
      "2149\n",
      "2156\n",
      "2163\n",
      "2177\n",
      "2184\n",
      "2191\n",
      "2198\n",
      "2212\n",
      "2219\n",
      "2226\n",
      "2233\n",
      "2247\n",
      "2254\n",
      "2261\n",
      "2268\n",
      "2282\n",
      "2289\n",
      "2296\n",
      "2303\n",
      "2317\n",
      "2324\n",
      "2331\n",
      "2338\n",
      "2352\n",
      "2359\n",
      "2366\n",
      "2373\n",
      "2387\n",
      "2394\n",
      "2401\n",
      "2408\n",
      "2422\n",
      "2429\n",
      "2436\n",
      "2443\n",
      "2457\n",
      "2464\n",
      "2471\n",
      "2478\n",
      "2492\n",
      "2499\n",
      "2506\n",
      "2513\n",
      "2527\n",
      "2534\n",
      "2541\n",
      "2548\n",
      "2562\n",
      "2569\n",
      "2576\n",
      "2583\n",
      "2597\n",
      "2604\n",
      "2611\n",
      "2618\n",
      "2632\n",
      "2639\n",
      "2646\n",
      "2653\n",
      "2667\n",
      "2674\n",
      "2681\n",
      "2688\n",
      "2702\n",
      "2709\n",
      "2716\n",
      "2723\n",
      "2737\n",
      "2744\n",
      "2751\n",
      "2758\n",
      "2772\n",
      "2779\n",
      "2786\n",
      "2793\n",
      "2807\n",
      "2814\n",
      "2821\n",
      "2828\n",
      "2842\n",
      "2849\n",
      "2856\n",
      "2863\n",
      "2877\n",
      "2884\n",
      "2891\n",
      "2898\n",
      "2912\n",
      "2919\n",
      "2926\n",
      "2933\n",
      "2947\n",
      "2954\n",
      "2961\n",
      "2968\n",
      "2982\n",
      "2989\n",
      "2996\n",
      "3003\n",
      "3017\n",
      "3024\n",
      "3031\n",
      "3038\n",
      "3052\n",
      "3059\n",
      "3066\n",
      "3073\n",
      "3087\n",
      "3094\n",
      "3101\n",
      "3108\n",
      "3122\n",
      "3129\n",
      "3136\n",
      "3143\n",
      "3157\n",
      "3164\n",
      "3171\n",
      "3178\n",
      "3192\n",
      "3199\n"
     ]
    }
   ],
   "source": [
    "#Exercice 1\n",
    "for n in range(2000,3201):\n",
    "    if (n % 7 == 0 and n % 5 > 0):\n",
    "        print(n)"
   ]
  },
  {
   "cell_type": "code",
   "execution_count": 20,
   "id": "345b4e51",
   "metadata": {},
   "outputs": [
    {
     "name": "stdout",
     "output_type": "stream",
     "text": [
      "Enter your factorial number n factorial m  (n): 0\n",
      "1\n"
     ]
    }
   ],
   "source": [
    "#Exercice 2\n",
    "def factorial(n):\n",
    "    r = 1\n",
    "    if(r < 0):\n",
    "        r = \"Error\"\n",
    "    elif(r == 0):\n",
    "        r = 1\n",
    "    else:\n",
    "        for i in range(1,n+1):\n",
    "            r = r * i\n",
    "            print(i,\"  \",r)\n",
    "    return r\n",
    "while True:\n",
    "    try:\n",
    "        a = int(input(\"Enter your factorial number n factorial m  (n): \"))\n",
    "        if(a >= 0):\n",
    "            break\n",
    "        print(\"Enter a positive number\")\n",
    "    except ValueError:\n",
    "        a = int(input(\"Please Enter an integer number : \"))\n",
    "print(factorial(a))"
   ]
  },
  {
   "cell_type": "code",
   "execution_count": 23,
   "id": "138fd56e",
   "metadata": {},
   "outputs": [
    {
     "name": "stdout",
     "output_type": "stream",
     "text": [
      "Enter an integer number : 10\n",
      "{1: 1, 2: 4, 3: 9, 4: 16, 5: 25, 6: 36, 7: 49, 8: 64, 9: 81, 10: 100}\n"
     ]
    }
   ],
   "source": [
    "#Exercice 3\n",
    "dict1 = dict()\n",
    "while True:\n",
    "    try:\n",
    "        a = int(input(\"Enter an integer number : \"))\n",
    "        break\n",
    "    except:\n",
    "        a = int(input(\"Please Enter an integer number : \"))\n",
    "for i in range(1,a+1):\n",
    "    dict1[i] = i*i\n",
    "print(dict1)"
   ]
  },
  {
   "cell_type": "code",
   "execution_count": 33,
   "id": "a2172b71",
   "metadata": {},
   "outputs": [
    {
     "name": "stdout",
     "output_type": "stream",
     "text": [
      "ktten\n"
     ]
    }
   ],
   "source": [
    "#Exercice 4\n",
    "def missing_char(str_a,index):\n",
    "    if(len(str_a) <= 0):\n",
    "        r = \"Error : Not valid a String\"\n",
    "    elif(len(str_a) == 1):\n",
    "        r = \"Error : Please enter a string with more then 1 char\"\n",
    "    elif(index < 0):\n",
    "        r = \"Error : index number should be equal or superior to 0\"\n",
    "    elif(index > len(str_a)-1):\n",
    "        r = \"Error : index should be in range of your string of character length\"\n",
    "    else:\n",
    "        r =  str_a[:index:] + str_a[index+1::]\n",
    "    return r\n",
    "\n",
    "print(missing_char('kitten', 1))\n",
    "    "
   ]
  },
  {
   "cell_type": "code",
   "execution_count": 42,
   "id": "c9eb5f23",
   "metadata": {},
   "outputs": [
    {
     "data": {
      "text/plain": [
       "[[0, 1], [2, 3], [4, 5]]"
      ]
     },
     "execution_count": 42,
     "metadata": {},
     "output_type": "execute_result"
    }
   ],
   "source": [
    "#Exercice 5\n",
    "import numpy as np\n",
    "npArray = np.array([[0, 1],[2, 3],[4, 5]])\n",
    "Array = npArray.tolist()\n",
    "Array"
   ]
  },
  {
   "cell_type": "code",
   "execution_count": 57,
   "id": "1cfcd7a5",
   "metadata": {},
   "outputs": [
    {
     "data": {
      "text/plain": [
       "array([[ 1., -1.],\n",
       "       [-1.,  1.]])"
      ]
     },
     "execution_count": 57,
     "metadata": {},
     "output_type": "execute_result"
    }
   ],
   "source": [
    "#Exercice 6\n",
    "np1 = np.array([0, 1, 2])\n",
    "np2 = np.array([2, 1, 0])\n",
    "np_cov = np.cov(np1,np2)\n",
    "np_cov"
   ]
  },
  {
   "cell_type": "code",
   "execution_count": 60,
   "id": "7e7d8639",
   "metadata": {},
   "outputs": [
    {
     "name": "stdout",
     "output_type": "stream",
     "text": [
      "(18, 22, 24)\n"
     ]
    }
   ],
   "source": [
    "#Exercice 7\n",
    "def formula_Q(*D):\n",
    "    C = 50\n",
    "    H = 30\n",
    "    Q = tuple()\n",
    "    for i in D:\n",
    "        S = round(pow((2*i*C)/H,1/2))\n",
    "        Q += (S,)\n",
    "    return Q\n",
    "print(formula_Q(100,150,180 ))"
   ]
  },
  {
   "cell_type": "code",
   "execution_count": null,
   "id": "917ebe62",
   "metadata": {},
   "outputs": [],
   "source": []
  }
 ],
 "metadata": {
  "kernelspec": {
   "display_name": "Python 3 (ipykernel)",
   "language": "python",
   "name": "python3"
  },
  "language_info": {
   "codemirror_mode": {
    "name": "ipython",
    "version": 3
   },
   "file_extension": ".py",
   "mimetype": "text/x-python",
   "name": "python",
   "nbconvert_exporter": "python",
   "pygments_lexer": "ipython3",
   "version": "3.9.13"
  }
 },
 "nbformat": 4,
 "nbformat_minor": 5
}
